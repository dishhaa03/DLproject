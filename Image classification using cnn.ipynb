{
 "cells": [
  {
   "cell_type": "code",
   "execution_count": 20,
   "id": "988c5f5a",
   "metadata": {},
   "outputs": [],
   "source": [
    "import tensorflow as tf\n",
    "from tensorflow import keras\n",
    "from tensorflow.keras import datasets, layers, models\n",
    "import matplotlib.pyplot as plt\n",
    "import numpy as np"
   ]
  },
  {
   "cell_type": "code",
   "execution_count": 21,
   "id": "0df650e7",
   "metadata": {},
   "outputs": [
    {
     "data": {
      "text/plain": [
       "(50000, 32, 32, 3)"
      ]
     },
     "execution_count": 21,
     "metadata": {},
     "output_type": "execute_result"
    }
   ],
   "source": [
    "(X_train, Y_train), (X_test, Y_test) = datasets.cifar10.load_data()\n",
    "X_train.shape"
   ]
  },
  {
   "cell_type": "code",
   "execution_count": 22,
   "id": "d0cde630",
   "metadata": {},
   "outputs": [
    {
     "data": {
      "text/plain": [
       "array([6, 9, 9, 4, 1], dtype=uint8)"
      ]
     },
     "execution_count": 22,
     "metadata": {},
     "output_type": "execute_result"
    }
   ],
   "source": [
    "X_test.shape\n",
    "Y_train = Y_train.reshape(-1, )\n",
    "Y_train[:5]"
   ]
  },
  {
   "cell_type": "code",
   "execution_count": 23,
   "id": "4f8a998b",
   "metadata": {},
   "outputs": [],
   "source": [
    "classes = [\"airplane\", \"automobile\", \"bird\", \"cat\", \"deer\",\"dog\", \"frog\", \"horse\", \"ship\", \"truck\"]"
   ]
  },
  {
   "cell_type": "code",
   "execution_count": 24,
   "id": "5fa16a3e",
   "metadata": {},
   "outputs": [
    {
     "data": {
      "image/png": "[encoded data removed]",
      "text/plain": [
       "<Figure size 1500x200 with 1 Axes>"
      ]
     },
     "metadata": {},
     "output_type": "display_data"
    }
   ],
   "source": [
    "#Making a function for plaotting image for ith index:\n",
    "def plot_sample(X,Y,i):\n",
    "    plt.figure(figsize=(15,2))\n",
    "    plt.imshow(X[i])\n",
    "    plt.xlabel(classes[Y[i]])\n",
    "\n",
    "\n",
    "plot_sample(X_train, Y_train, 0)"
   ]
  },
  {
   "cell_type": "code",
   "execution_count": 25,
   "id": "4a4d6d03",
   "metadata": {},
   "outputs": [],
   "source": [
    "X_train = X_train/255\n",
    "X_test = X_test/255"
   ]
  },
  {
   "cell_type": "code",
   "execution_count": 27,
   "id": "935bb574",
   "metadata": {},
   "outputs": [
    {
     "name": "stdout",
     "output_type": "stream",
     "text": [
      "Epoch 1/2\n",
      "1563/1563 [==============================] - 56s 35ms/step - loss: 1.8130 - accuracy: 0.3552\n",
      "Epoch 2/2\n",
      "1563/1563 [==============================] - 58s 37ms/step - loss: 1.6223 - accuracy: 0.4283\n"
     ]
    },
    {
     "data": {
      "text/plain": [
       "<keras.callbacks.History at 0x2524ba23370>"
      ]
     },
     "execution_count": 27,
     "metadata": {},
     "output_type": "execute_result"
    }
   ],
   "source": [
    "model = keras.Sequential([\n",
    "    keras.layers.Flatten(input_shape=(32,32,3)),\n",
    "    keras.layers.Dense(3000, activation='relu'),\n",
    "    keras.layers.Dense(1000, activation='relu'),\n",
    "    keras.layers.Dense(10, activation='sigmoid'),\n",
    "])\n",
    "\n",
    "model.compile(optimizer = 'SGD',\n",
    "             loss = 'sparse_categorical_crossentropy',\n",
    "             metrics = ['accuracy'])\n",
    "\n",
    "model.fit(X_train, Y_train, epochs = 2)"
   ]
  },
  {
   "cell_type": "code",
   "execution_count": 28,
   "id": "009d5076",
   "metadata": {},
   "outputs": [
    {
     "name": "stdout",
     "output_type": "stream",
     "text": [
      "313/313 [==============================] - 3s 9ms/step\n",
      "Classification report : \n",
      "               precision    recall  f1-score   support\n",
      "\n",
      "           0       0.53      0.44      0.48      1000\n",
      "           1       0.37      0.71      0.49      1000\n",
      "           2       0.38      0.24      0.30      1000\n",
      "           3       0.35      0.20      0.26      1000\n",
      "           4       0.51      0.17      0.25      1000\n",
      "           5       0.31      0.50      0.38      1000\n",
      "           6       0.40      0.65      0.50      1000\n",
      "           7       0.62      0.36      0.46      1000\n",
      "           8       0.45      0.70      0.55      1000\n",
      "           9       0.53      0.17      0.26      1000\n",
      "\n",
      "    accuracy                           0.42     10000\n",
      "   macro avg       0.45      0.42      0.39     10000\n",
      "weighted avg       0.45      0.42      0.39     10000\n",
      "\n"
     ]
    }
   ],
   "source": [
    "from sklearn.metrics import confusion_matrix, classification_report\n",
    "y_pred = model.predict(X_test)\n",
    "y_pred_classes = [np.argmax(element) for element in y_pred]\n",
    "\n",
    "print(\"Classification report : \\n\", classification_report(Y_test, y_pred_classes))"
   ]
  },
  {
   "cell_type": "code",
   "execution_count": 33,
   "id": "9f079ab7",
   "metadata": {
    "scrolled": false
   },
   "outputs": [
    {
     "name": "stdout",
     "output_type": "stream",
     "text": [
      "Epoch 1/2\n",
      "1563/1563 [==============================] - 24s 15ms/step - loss: 1.4794 - accuracy: 0.4678\n",
      "Epoch 2/2\n",
      "1563/1563 [==============================] - 22s 14ms/step - loss: 1.1232 - accuracy: 0.6042\n"
     ]
    },
    {
     "data": {
      "text/plain": [
       "<keras.callbacks.History at 0x252501d9790>"
      ]
     },
     "execution_count": 33,
     "metadata": {},
     "output_type": "execute_result"
    }
   ],
   "source": [
    "cnn = models.Sequential([\n",
    "    layers.Conv2D(filters = 32, kernel_size=(3,3), activation='relu', input_shape=(32,32,3)),\n",
    "    layers.MaxPooling2D((2,2)),\n",
    "    \n",
    "    layers.Conv2D(filters = 64, kernel_size=(3,3), activation='relu'),\n",
    "    layers.MaxPooling2D((2,2)),\n",
    "    \n",
    "    \n",
    "    #dense layers:\n",
    "    layers.Flatten(),\n",
    "    layers.Dense(64, activation='relu'),\n",
    "    layers.Dense(10, activation='softmax')\n",
    "])\n",
    "\n",
    "cnn.compile(optimizer='adam',\n",
    "           loss = 'sparse_categorical_crossentropy',\n",
    "           metrics=['accuracy'])\n",
    "\n",
    "cnn.fit(X_train, Y_train, epochs=2)"
   ]
  },
  {
   "cell_type": "code",
   "execution_count": 34,
   "id": "78cfee21",
   "metadata": {},
   "outputs": [
    {
     "name": "stdout",
     "output_type": "stream",
     "text": [
      "313/313 [==============================] - 3s 8ms/step - loss: 1.0509 - accuracy: 0.6362\n"
     ]
    },
    {
     "data": {
      "text/plain": [
       "[1.0508588552474976, 0.6362000107765198]"
      ]
     },
     "execution_count": 34,
     "metadata": {},
     "output_type": "execute_result"
    }
   ],
   "source": [
    "cnn.evaluate(X_test, Y_test)"
   ]
  },
  {
   "cell_type": "code",
   "execution_count": 38,
   "id": "51d26e7a",
   "metadata": {},
   "outputs": [
    {
     "data": {
      "image/png": "[encoded data removed]",
      "text/plain": [
       "<Figure size 1500x200 with 1 Axes>"
      ]
     },
     "metadata": {},
     "output_type": "display_data"
    }
   ],
   "source": [
    "#Now we will like to plot the samples using using the functio we already made above:\n",
    "#For taht please reshape then Y_test set:\n",
    "Y_test = Y_test.reshape(-1,)\n",
    "Y_test[:5]\n",
    "plot_sample(X_test, Y_test, 2)"
   ]
  },
  {
   "cell_type": "code",
   "execution_count": 40,
   "id": "f3c8a4d9",
   "metadata": {},
   "outputs": [
    {
     "name": "stdout",
     "output_type": "stream",
     "text": [
      "313/313 [==============================] - 2s 8ms/step\n"
     ]
    },
    {
     "data": {
      "text/plain": [
       "array([[8.54243059e-03, 7.62657903e-04, 2.74573993e-02, 5.74227810e-01,\n",
       "        5.25826821e-03, 2.00886562e-01, 1.04186349e-01, 9.78719443e-04,\n",
       "        7.60490298e-02, 1.65086391e-03],\n",
       "       [1.08444765e-01, 2.38266081e-01, 5.04267111e-04, 4.39715950e-05,\n",
       "        7.68713144e-05, 4.02490423e-06, 1.27878138e-05, 3.15188277e-06,\n",
       "        6.45148993e-01, 7.49508711e-03],\n",
       "       [9.05723795e-02, 2.71493882e-01, 6.23435760e-03, 3.41844861e-03,\n",
       "        1.43626309e-03, 8.88783659e-04, 1.17728801e-03, 9.39155405e-04,\n",
       "        5.75595498e-01, 4.82439362e-02],\n",
       "       [8.54951441e-01, 1.71360932e-02, 7.23921368e-03, 3.91493028e-04,\n",
       "        1.60976162e-03, 4.88737314e-05, 1.54154623e-04, 1.14109840e-04,\n",
       "        1.17673092e-01, 6.81716716e-04],\n",
       "       [4.45993152e-04, 4.15280636e-04, 5.22653647e-02, 3.79576236e-02,\n",
       "        7.50278771e-01, 3.12606618e-02, 1.23774551e-01, 3.03491903e-03,\n",
       "        2.99682753e-04, 2.67222174e-04]], dtype=float32)"
      ]
     },
     "execution_count": 40,
     "metadata": {},
     "output_type": "execute_result"
    }
   ],
   "source": [
    "y_pred = cnn.predict(X_test)\n",
    "y_pred[:5]"
   ]
  },
  {
   "cell_type": "code",
   "execution_count": 41,
   "id": "f63a2693",
   "metadata": {},
   "outputs": [
    {
     "data": {
      "text/plain": [
       "[3, 8, 8, 0, 4]"
      ]
     },
     "execution_count": 41,
     "metadata": {},
     "output_type": "execute_result"
    }
   ],
   "source": [
    "y_classes = [np.argmax(element) for element in y_pred]\n",
    "y_classes[:5]"
   ]
  },
  {
   "cell_type": "code",
   "execution_count": 42,
   "id": "8dc5d63d",
   "metadata": {},
   "outputs": [
    {
     "data": {
      "text/plain": [
       "array([3, 8, 8, 0, 6], dtype=uint8)"
      ]
     },
     "execution_count": 42,
     "metadata": {},
     "output_type": "execute_result"
    }
   ],
   "source": [
    "Y_test[:5]"
   ]
  },
  {
   "cell_type": "code",
   "execution_count": 44,
   "id": "4c59bf75",
   "metadata": {},
   "outputs": [
    {
     "name": "stdout",
     "output_type": "stream",
     "text": [
      "Classification report by using cnn : \n",
      "               precision    recall  f1-score   support\n",
      "\n",
      "           0       0.62      0.74      0.68      1000\n",
      "           1       0.70      0.81      0.75      1000\n",
      "           2       0.52      0.48      0.50      1000\n",
      "           3       0.57      0.32      0.41      1000\n",
      "           4       0.53      0.63      0.58      1000\n",
      "           5       0.54      0.56      0.55      1000\n",
      "           6       0.68      0.74      0.71      1000\n",
      "           7       0.68      0.73      0.70      1000\n",
      "           8       0.72      0.77      0.75      1000\n",
      "           9       0.81      0.58      0.68      1000\n",
      "\n",
      "    accuracy                           0.64     10000\n",
      "   macro avg       0.64      0.64      0.63     10000\n",
      "weighted avg       0.64      0.64      0.63     10000\n",
      "\n"
     ]
    }
   ],
   "source": [
    "print(\"Classification report by using cnn : \\n\", classification_report(Y_test, y_classes))"
   ]
  },
  {
   "cell_type": "markdown",
   "id": "889cc3a4",
   "metadata": {},
   "source": [
    "## Convolution padding and stride\n",
    "\n",
    "While moving the convolution box for the given matrix padding is done so as to take in account the corner pixels...So that they don't feel left out...and can take part in evaluation.......\n",
    "Padding can be either same or valid(normal...no pad) \n",
    "\n",
    "Stride \"stride=(1,1)\" implies that each time in x and y direction the box traverses 1 unit..."
   ]
  },
  {
   "cell_type": "code",
   "execution_count": null,
   "id": "0e6c4d16",
   "metadata": {},
   "outputs": [],
   "source": []
  }
 ],
 "metadata": {
  "kernelspec": {
   "display_name": "Python 3 (ipykernel)",
   "language": "python",
   "name": "python3"
  },
  "language_info": {
   "codemirror_mode": {
    "name": "ipython",
    "version": 3
   },
   "file_extension": ".py",
   "mimetype": "text/x-python",
   "name": "python",
   "nbconvert_exporter": "python",
   "pygments_lexer": "ipython3",
   "version": "3.9.13"
  }
 },
 "nbformat": 4,
 "nbformat_minor": 5
}
